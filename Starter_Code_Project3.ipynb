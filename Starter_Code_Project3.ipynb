{
 "cells": [
  {
   "cell_type": "code",
   "execution_count": 4,
   "metadata": {},
   "outputs": [
    {
     "name": "stdout",
     "output_type": "stream",
     "text": [
      "Initial State Data DataFrame:\n",
      "  STATENAME                         URL                 WEBSITE  \\\n",
      "0   Alabama  http://adph.org/influenza/  Influenza Surveillance   \n",
      "1   Alabama  http://adph.org/influenza/  Influenza Surveillance   \n",
      "2   Alabama  http://adph.org/influenza/  Influenza Surveillance   \n",
      "3   Alabama  http://adph.org/influenza/  Influenza Surveillance   \n",
      "4   Alabama  http://adph.org/influenza/  Influenza Surveillance   \n",
      "\n",
      "  ACTIVITY LEVEL ACTIVITY LEVEL LABEL      WEEKEND  WEEK   SEASON  \n",
      "0        Level 1              Minimal  Oct-11-2008    41  2008-09  \n",
      "1        Level 1              Minimal  Oct-18-2008    42  2008-09  \n",
      "2        Level 1              Minimal  Oct-25-2008    43  2008-09  \n",
      "3        Level 3              Minimal  Nov-01-2008    44  2008-09  \n",
      "4        Level 1              Minimal  Nov-08-2008    45  2008-09  \n"
     ]
    }
   ],
   "source": [
    "import pandas as pd\n",
    "\n",
    "# Load the data from the State Data CSV file into a DataFrame\n",
    "state_data_df = pd.read_csv('StateDatabySeason63_49,48,62.csv')\n",
    "\n",
    "# Display the initial DataFrame\n",
    "print(\"Initial State Data DataFrame:\")\n",
    "print(state_data_df.head())\n"
   ]
  },
  {
   "cell_type": "code",
   "execution_count": 10,
   "metadata": {},
   "outputs": [
    {
     "name": "stdout",
     "output_type": "stream",
     "text": [
      "Cleaned State Data DataFrame:\n",
      "    States ACTIVITY LEVEL ACTIVITY LEVEL LABEL    WEEKEND  WEEK   SEASON  YEAR\n",
      "0  Alabama        Level 1              Minimal 2008-10-11    41  2008-09  2008\n",
      "1  Alabama        Level 1              Minimal 2008-10-18    42  2008-09  2008\n",
      "2  Alabama        Level 1              Minimal 2008-10-25    43  2008-09  2008\n",
      "3  Alabama        Level 3              Minimal 2008-11-01    44  2008-09  2008\n",
      "4  Alabama        Level 1              Minimal 2008-11-08    45  2008-09  2008\n"
     ]
    }
   ],
   "source": [
    "# Columns to drop and the column to rename\n",
    "state_data_drop_columns = ['URL', 'WEBSITE']  \n",
    "state_data_rename_columns = {'STATENAME': 'States'}  \n",
    "\n",
    "# Drop unnecessary columns\n",
    "state_data_df = state_data_df.drop(columns=state_data_drop_columns, errors='ignore')\n",
    "\n",
    "# Rename the column Statename\n",
    "state_data_df = state_data_df.rename(columns=state_data_rename_columns)\n",
    "\n",
    "# Display the cleaned DataFrame\n",
    "print(\"Cleaned State Data DataFrame:\")\n",
    "print(state_data_df.head())\n"
   ]
  },
  {
   "cell_type": "code",
   "execution_count": 20,
   "metadata": {},
   "outputs": [
    {
     "name": "stdout",
     "output_type": "stream",
     "text": [
      "Cleaned data saved to 'Cleaned_StateDatabySeason63_49,48,62.csv'\n"
     ]
    }
   ],
   "source": [
    "# Save the cleaned data to a new CSV file\n",
    "state_data_df.to_csv('Cleaned_StateDatabySeason63_49,48,62.csv', index=False)\n",
    "\n",
    "print(\"Cleaned data saved to 'Cleaned_StateDatabySeason63_49,48,62.csv'\")\n"
   ]
  },
  {
   "cell_type": "code",
   "execution_count": 13,
   "metadata": {},
   "outputs": [],
   "source": [
    "import sqlite3\n",
    "\n",
    "# Connect to SQLite database \n",
    "conn = sqlite3.connect('state_data.db')\n",
    "cursor = conn.cursor()\n",
    "\n",
    "# Define schema and create a table for the state data\n",
    "cursor.execute('''\n",
    "CREATE TABLE IF NOT EXISTS StateData (\n",
    "    States TEXT,\n",
    "    Activity_Level TEXT,\n",
    "    Activity_Level_Label TEXT,\n",
    "    Weekend DATE,\n",
    "    Week INTEGER,\n",
    "    Season TEXT\n",
    ")\n",
    "''')\n",
    "\n",
    "# Insert cleaned state data into the database\n",
    "state_data_df.to_sql('StateData', conn, if_exists='replace', index=False)\n",
    "\n",
    "# Commit changes and close the connection\n",
    "conn.commit()\n",
    "conn.close()\n"
   ]
  }
 ],
 "metadata": {
  "language_info": {
   "name": "python"
  }
 },
 "nbformat": 4,
 "nbformat_minor": 2
}
